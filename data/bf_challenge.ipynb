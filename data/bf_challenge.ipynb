{
 "cells": [
  {
   "cell_type": "code",
   "execution_count": 1,
   "metadata": {},
   "outputs": [],
   "source": [
    "import pandas as pd\n",
    "import numpy as np\n",
    "import matplotlib.pyplot as plt\n",
    "import seaborn as sns\n",
    "\n",
    "%matplotlib inline\n",
    "pd.options.display.float_format = '{:.2f}'.format\n",
    "plt.rcParams[\"axes.labelsize\"] = 13 #set the axis label sizes for the whole notebooks"
   ]
  },
  {
   "cell_type": "markdown",
   "metadata": {},
   "source": [
    "#### Import the data"
   ]
  },
  {
   "cell_type": "code",
   "execution_count": 2,
   "metadata": {},
   "outputs": [],
   "source": [
    "people = pd.read_csv('/Users/brendanferris/Desktop/scripts/ckm_challenge/data/people.csv')\n",
    "simulation = pd.read_csv('/Users/brendanferris/Desktop/scripts/ckm_challenge/data/simulation.csv')"
   ]
  },
  {
   "cell_type": "code",
   "execution_count": 3,
   "metadata": {},
   "outputs": [
    {
     "data": {
      "text/html": [
       "<div>\n",
       "<style scoped>\n",
       "    .dataframe tbody tr th:only-of-type {\n",
       "        vertical-align: middle;\n",
       "    }\n",
       "\n",
       "    .dataframe tbody tr th {\n",
       "        vertical-align: top;\n",
       "    }\n",
       "\n",
       "    .dataframe thead th {\n",
       "        text-align: right;\n",
       "    }\n",
       "</style>\n",
       "<table border=\"1\" class=\"dataframe\">\n",
       "  <thead>\n",
       "    <tr style=\"text-align: right;\">\n",
       "      <th></th>\n",
       "      <th>action</th>\n",
       "      <th>direction</th>\n",
       "      <th>floor</th>\n",
       "      <th>subject</th>\n",
       "      <th>system</th>\n",
       "      <th>time</th>\n",
       "      <th>weight</th>\n",
       "      <th>date</th>\n",
       "      <th>date_daily</th>\n",
       "    </tr>\n",
       "  </thead>\n",
       "  <tbody>\n",
       "    <tr>\n",
       "      <th>0</th>\n",
       "      <td>call</td>\n",
       "      <td>up</td>\n",
       "      <td>0</td>\n",
       "      <td>system</td>\n",
       "      <td>elevator control</td>\n",
       "      <td>2019-01-01 07:50:53.906554</td>\n",
       "      <td>nan</td>\n",
       "      <td>2019-01-01 07:00:00.000000</td>\n",
       "      <td>2019-01-01 00:00:00.000000</td>\n",
       "    </tr>\n",
       "    <tr>\n",
       "      <th>1</th>\n",
       "      <td>door open</td>\n",
       "      <td>NaN</td>\n",
       "      <td>0</td>\n",
       "      <td>1</td>\n",
       "      <td>elevator control</td>\n",
       "      <td>2019-01-01 07:50:53.906554</td>\n",
       "      <td>0.00</td>\n",
       "      <td>2019-01-01 07:00:00.000000</td>\n",
       "      <td>2019-01-01 00:00:00.000000</td>\n",
       "    </tr>\n",
       "    <tr>\n",
       "      <th>2</th>\n",
       "      <td>door open</td>\n",
       "      <td>NaN</td>\n",
       "      <td>2</td>\n",
       "      <td>1</td>\n",
       "      <td>elevator control</td>\n",
       "      <td>2019-01-01 07:51:19.006554</td>\n",
       "      <td>191.49</td>\n",
       "      <td>2019-01-01 07:00:00.000000</td>\n",
       "      <td>2019-01-01 00:00:00.000000</td>\n",
       "    </tr>\n",
       "    <tr>\n",
       "      <th>3</th>\n",
       "      <td>call</td>\n",
       "      <td>up</td>\n",
       "      <td>0</td>\n",
       "      <td>system</td>\n",
       "      <td>elevator control</td>\n",
       "      <td>2019-01-01 07:54:40.829759</td>\n",
       "      <td>nan</td>\n",
       "      <td>2019-01-01 07:00:00.000000</td>\n",
       "      <td>2019-01-01 00:00:00.000000</td>\n",
       "    </tr>\n",
       "    <tr>\n",
       "      <th>4</th>\n",
       "      <td>door open</td>\n",
       "      <td>NaN</td>\n",
       "      <td>0</td>\n",
       "      <td>2</td>\n",
       "      <td>elevator control</td>\n",
       "      <td>2019-01-01 07:54:40.829759</td>\n",
       "      <td>0.00</td>\n",
       "      <td>2019-01-01 07:00:00.000000</td>\n",
       "      <td>2019-01-01 00:00:00.000000</td>\n",
       "    </tr>\n",
       "    <tr>\n",
       "      <th>...</th>\n",
       "      <td>...</td>\n",
       "      <td>...</td>\n",
       "      <td>...</td>\n",
       "      <td>...</td>\n",
       "      <td>...</td>\n",
       "      <td>...</td>\n",
       "      <td>...</td>\n",
       "      <td>...</td>\n",
       "      <td>...</td>\n",
       "    </tr>\n",
       "    <tr>\n",
       "      <th>166936</th>\n",
       "      <td>door open</td>\n",
       "      <td>NaN</td>\n",
       "      <td>16</td>\n",
       "      <td>0</td>\n",
       "      <td>elevator control</td>\n",
       "      <td>2019-05-29 22:19:57.757071</td>\n",
       "      <td>0.00</td>\n",
       "      <td>2019-05-29 22:00:00.000000</td>\n",
       "      <td>2019-05-29 00:00:00.000000</td>\n",
       "    </tr>\n",
       "    <tr>\n",
       "      <th>166937</th>\n",
       "      <td>door open</td>\n",
       "      <td>NaN</td>\n",
       "      <td>0</td>\n",
       "      <td>0</td>\n",
       "      <td>elevator control</td>\n",
       "      <td>2019-05-29 22:21:18.857071</td>\n",
       "      <td>103.10</td>\n",
       "      <td>2019-05-29 22:00:00.000000</td>\n",
       "      <td>2019-05-29 00:00:00.000000</td>\n",
       "    </tr>\n",
       "    <tr>\n",
       "      <th>166938</th>\n",
       "      <td>call</td>\n",
       "      <td>down</td>\n",
       "      <td>2</td>\n",
       "      <td>system</td>\n",
       "      <td>elevator control</td>\n",
       "      <td>2019-05-29 22:27:20.316376</td>\n",
       "      <td>nan</td>\n",
       "      <td>2019-05-29 22:00:00.000000</td>\n",
       "      <td>2019-05-29 00:00:00.000000</td>\n",
       "    </tr>\n",
       "    <tr>\n",
       "      <th>166939</th>\n",
       "      <td>door open</td>\n",
       "      <td>NaN</td>\n",
       "      <td>2</td>\n",
       "      <td>3</td>\n",
       "      <td>elevator control</td>\n",
       "      <td>2019-05-29 22:27:28.316376</td>\n",
       "      <td>0.00</td>\n",
       "      <td>2019-05-29 22:00:00.000000</td>\n",
       "      <td>2019-05-29 00:00:00.000000</td>\n",
       "    </tr>\n",
       "    <tr>\n",
       "      <th>166940</th>\n",
       "      <td>door open</td>\n",
       "      <td>NaN</td>\n",
       "      <td>0</td>\n",
       "      <td>3</td>\n",
       "      <td>elevator control</td>\n",
       "      <td>2019-05-29 22:27:53.416376</td>\n",
       "      <td>145.02</td>\n",
       "      <td>2019-05-29 22:00:00.000000</td>\n",
       "      <td>2019-05-29 00:00:00.000000</td>\n",
       "    </tr>\n",
       "  </tbody>\n",
       "</table>\n",
       "<p>166941 rows × 9 columns</p>\n",
       "</div>"
      ],
      "text/plain": [
       "           action direction  floor subject            system  \\\n",
       "0            call        up      0  system  elevator control   \n",
       "1       door open       NaN      0       1  elevator control   \n",
       "2       door open       NaN      2       1  elevator control   \n",
       "3            call        up      0  system  elevator control   \n",
       "4       door open       NaN      0       2  elevator control   \n",
       "...           ...       ...    ...     ...               ...   \n",
       "166936  door open       NaN     16       0  elevator control   \n",
       "166937  door open       NaN      0       0  elevator control   \n",
       "166938       call      down      2  system  elevator control   \n",
       "166939  door open       NaN      2       3  elevator control   \n",
       "166940  door open       NaN      0       3  elevator control   \n",
       "\n",
       "                              time  weight                        date  \\\n",
       "0       2019-01-01 07:50:53.906554     nan  2019-01-01 07:00:00.000000   \n",
       "1       2019-01-01 07:50:53.906554    0.00  2019-01-01 07:00:00.000000   \n",
       "2       2019-01-01 07:51:19.006554  191.49  2019-01-01 07:00:00.000000   \n",
       "3       2019-01-01 07:54:40.829759     nan  2019-01-01 07:00:00.000000   \n",
       "4       2019-01-01 07:54:40.829759    0.00  2019-01-01 07:00:00.000000   \n",
       "...                            ...     ...                         ...   \n",
       "166936  2019-05-29 22:19:57.757071    0.00  2019-05-29 22:00:00.000000   \n",
       "166937  2019-05-29 22:21:18.857071  103.10  2019-05-29 22:00:00.000000   \n",
       "166938  2019-05-29 22:27:20.316376     nan  2019-05-29 22:00:00.000000   \n",
       "166939  2019-05-29 22:27:28.316376    0.00  2019-05-29 22:00:00.000000   \n",
       "166940  2019-05-29 22:27:53.416376  145.02  2019-05-29 22:00:00.000000   \n",
       "\n",
       "                        date_daily  \n",
       "0       2019-01-01 00:00:00.000000  \n",
       "1       2019-01-01 00:00:00.000000  \n",
       "2       2019-01-01 00:00:00.000000  \n",
       "3       2019-01-01 00:00:00.000000  \n",
       "4       2019-01-01 00:00:00.000000  \n",
       "...                            ...  \n",
       "166936  2019-05-29 00:00:00.000000  \n",
       "166937  2019-05-29 00:00:00.000000  \n",
       "166938  2019-05-29 00:00:00.000000  \n",
       "166939  2019-05-29 00:00:00.000000  \n",
       "166940  2019-05-29 00:00:00.000000  \n",
       "\n",
       "[166941 rows x 9 columns]"
      ]
     },
     "execution_count": 3,
     "metadata": {},
     "output_type": "execute_result"
    }
   ],
   "source": [
    "simulation"
   ]
  },
  {
   "cell_type": "markdown",
   "metadata": {},
   "source": [
    "The `time` columns in both datasets are strings and need to be converted to datetimes for analysis."
   ]
  },
  {
   "cell_type": "code",
   "execution_count": 4,
   "metadata": {},
   "outputs": [
    {
     "name": "stdout",
     "output_type": "stream",
     "text": [
      "object --> string\n"
     ]
    },
    {
     "data": {
      "text/plain": [
       "True"
      ]
     },
     "execution_count": 4,
     "metadata": {},
     "output_type": "execute_result"
    }
   ],
   "source": [
    "print(simulation.time.dtype, '--> string')\n",
    "people.time.dtype == simulation.time.dtype"
   ]
  },
  {
   "cell_type": "code",
   "execution_count": 5,
   "metadata": {},
   "outputs": [],
   "source": [
    "simulation['time'] = pd.to_datetime(simulation['time'], infer_datetime_format=True)\n",
    "people['time'] = pd.to_datetime(people['time'], infer_datetime_format=True)"
   ]
  },
  {
   "cell_type": "markdown",
   "metadata": {},
   "source": [
    "We can drop the `date` and `date_daily` columns because they don't seem to provide any value."
   ]
  },
  {
   "cell_type": "code",
   "execution_count": 6,
   "metadata": {},
   "outputs": [],
   "source": [
    "simulation.drop(['date','date_daily', 'weight'], axis=1, inplace=True)"
   ]
  },
  {
   "cell_type": "markdown",
   "metadata": {},
   "source": [
    "## Initial Insights"
   ]
  },
  {
   "cell_type": "code",
   "execution_count": 7,
   "metadata": {},
   "outputs": [
    {
     "name": "stdout",
     "output_type": "stream",
     "text": [
      "There were 1688 different people occupying the building over the course of the 3 months, and a grand total of 28957 people in and out of the building.\n"
     ]
    }
   ],
   "source": [
    "unique_occupants = len(people.subject.unique())\n",
    "total_occupants = people.guest.count()\n",
    "print(\"There were %s different people occupying the building over the course of the 3 months, and a grand total of %s people in and out of the building.\" % (unique_occupants, total_occupants))"
   ]
  },
  {
   "cell_type": "code",
   "execution_count": 8,
   "metadata": {},
   "outputs": [
    {
     "data": {
      "image/png": "[encoded data removed]",
      "text/plain": [
       "<Figure size 864x504 with 1 Axes>"
      ]
     },
     "metadata": {
      "needs_background": "light"
     },
     "output_type": "display_data"
    }
   ],
   "source": [
    "cntplt, ax = plt.subplots(figsize = (12,7))\n",
    "ax = sns.countplot(people.guest, edgecolor=sns.color_palette(\"dark\", 3), palette='pastel');\n",
    "ax.set_title('Difference between Guests/Not Guests.',fontsize = 17, fontweight='bold' )\n",
    "for rect in ax.patches:\n",
    "    ax.text(rect.get_x() + rect.get_width()  / 2,rect.get_height(),rect.get_height(),horizontalalignment='center', fontsize = 11)\n",
    "plt.savefig('guest_category.png')"
   ]
  },
  {
   "cell_type": "code",
   "execution_count": 9,
   "metadata": {},
   "outputs": [
    {
     "data": {
      "image/png": "[encoded data removed]",
      "text/plain": [
       "<Figure size 864x504 with 1 Axes>"
      ]
     },
     "metadata": {
      "needs_background": "light"
     },
     "output_type": "display_data"
    }
   ],
   "source": [
    "cntplt2, ax2 = plt.subplots(figsize = (12,7))\n",
    "ax2 = sns.countplot(simulation.direction, edgecolor=sns.color_palette(\"dark\", 3), palette='pastel');\n",
    "ax2.set_title('Difference between up/down calls.',fontsize = 17, fontweight='bold' )\n",
    "for rect in ax2.patches:\n",
    "    ax2.text(rect.get_x() + rect.get_width()  / 2,rect.get_height(),rect.get_height(),horizontalalignment='center', fontsize = 11)\n",
    "plt.savefig('up_down_calls.png')"
   ]
  },
  {
   "cell_type": "markdown",
   "metadata": {},
   "source": [
    "The elevators have a 50/50 split between up and down calls, suggesting that the building is used for professional use only. This was also hinted at in the problem description."
   ]
  },
  {
   "cell_type": "markdown",
   "metadata": {},
   "source": [
    "## Deeper Analysis"
   ]
  },
  {
   "cell_type": "markdown",
   "metadata": {},
   "source": [
    "I wanted to figure out how long it took for people in the lobby to obtain an elevator. In order to do this, I needed to make one assumption about the path a person takes to the elevator. I assume that after swiping into the building security system, a persons next action is to click the call button. "
   ]
  },
  {
   "cell_type": "markdown",
   "metadata": {},
   "source": [
    "*Why did I make the assumption?*\n",
    "\n",
    "A relative of mine works in 30 Rockefeller Center, and I have spent a good amount of time in the building. The process for entering the building is similar to the one described in the challenge description. People either have a badge, or have to get one from security (guests). They then have to swipe the badge at the entrance of one of the elevator corridors -- providing access to the elevators. There is nothing else someone can do other than call the elevator after swiping their badge. You can view that corridor [here](https://external-content.duckduckgo.com/iu/?u=https%3A%2F%2Fmedia-cdn.tripadvisor.com%2Fmedia%2Fphoto-s%2F03%2Ffc%2F03%2F1b%2Ftop-of-the-rock-observation.jpg&f=1&nofb=1), the pillars sticking out into the hallway are the turnstyles where the badges are swiped.  "
   ]
  },
  {
   "cell_type": "code",
   "execution_count": 10,
   "metadata": {},
   "outputs": [
    {
     "data": {
      "text/html": [
       "<div>\n",
       "<style scoped>\n",
       "    .dataframe tbody tr th:only-of-type {\n",
       "        vertical-align: middle;\n",
       "    }\n",
       "\n",
       "    .dataframe tbody tr th {\n",
       "        vertical-align: top;\n",
       "    }\n",
       "\n",
       "    .dataframe thead th {\n",
       "        text-align: right;\n",
       "    }\n",
       "</style>\n",
       "<table border=\"1\" class=\"dataframe\">\n",
       "  <thead>\n",
       "    <tr style=\"text-align: right;\">\n",
       "      <th></th>\n",
       "      <th>action</th>\n",
       "      <th>system</th>\n",
       "      <th>direction</th>\n",
       "      <th>floor</th>\n",
       "      <th>time</th>\n",
       "      <th>guest</th>\n",
       "      <th>swipe_time</th>\n",
       "      <th>subject</th>\n",
       "    </tr>\n",
       "  </thead>\n",
       "  <tbody>\n",
       "    <tr>\n",
       "      <th>0</th>\n",
       "      <td>call</td>\n",
       "      <td>elevator control</td>\n",
       "      <td>up</td>\n",
       "      <td>0</td>\n",
       "      <td>2019-01-01 07:50:53.906554</td>\n",
       "      <td>True</td>\n",
       "      <td>2019-01-01 07:50:22.678631</td>\n",
       "      <td>Charlotta SCHNITTGER</td>\n",
       "    </tr>\n",
       "    <tr>\n",
       "      <th>1</th>\n",
       "      <td>call</td>\n",
       "      <td>elevator control</td>\n",
       "      <td>up</td>\n",
       "      <td>0</td>\n",
       "      <td>2019-01-01 07:54:40.829759</td>\n",
       "      <td>True</td>\n",
       "      <td>2019-01-01 07:54:09.941757</td>\n",
       "      <td>Vassie GALARSA</td>\n",
       "    </tr>\n",
       "    <tr>\n",
       "      <th>2</th>\n",
       "      <td>call</td>\n",
       "      <td>elevator control</td>\n",
       "      <td>up</td>\n",
       "      <td>0</td>\n",
       "      <td>2019-01-01 08:01:37.689910</td>\n",
       "      <td>True</td>\n",
       "      <td>2019-01-01 08:00:54.406641</td>\n",
       "      <td>Wenzel ERBSTOESSER</td>\n",
       "    </tr>\n",
       "    <tr>\n",
       "      <th>3</th>\n",
       "      <td>call</td>\n",
       "      <td>elevator control</td>\n",
       "      <td>up</td>\n",
       "      <td>0</td>\n",
       "      <td>2019-01-01 08:10:29.154320</td>\n",
       "      <td>True</td>\n",
       "      <td>2019-01-01 08:10:02.745435</td>\n",
       "      <td>Rayan SHATTUCK</td>\n",
       "    </tr>\n",
       "    <tr>\n",
       "      <th>4</th>\n",
       "      <td>call</td>\n",
       "      <td>elevator control</td>\n",
       "      <td>up</td>\n",
       "      <td>0</td>\n",
       "      <td>2019-01-01 08:15:34.082043</td>\n",
       "      <td>True</td>\n",
       "      <td>2019-01-01 08:14:58.313058</td>\n",
       "      <td>Heath HILLMANN</td>\n",
       "    </tr>\n",
       "  </tbody>\n",
       "</table>\n",
       "</div>"
      ],
      "text/plain": [
       "  action            system direction  floor                       time  guest  \\\n",
       "0   call  elevator control        up      0 2019-01-01 07:50:53.906554   True   \n",
       "1   call  elevator control        up      0 2019-01-01 07:54:40.829759   True   \n",
       "2   call  elevator control        up      0 2019-01-01 08:01:37.689910   True   \n",
       "3   call  elevator control        up      0 2019-01-01 08:10:29.154320   True   \n",
       "4   call  elevator control        up      0 2019-01-01 08:15:34.082043   True   \n",
       "\n",
       "                  swipe_time               subject  \n",
       "0 2019-01-01 07:50:22.678631  Charlotta SCHNITTGER  \n",
       "1 2019-01-01 07:54:09.941757        Vassie GALARSA  \n",
       "2 2019-01-01 08:00:54.406641    Wenzel ERBSTOESSER  \n",
       "3 2019-01-01 08:10:02.745435        Rayan SHATTUCK  \n",
       "4 2019-01-01 08:14:58.313058        Heath HILLMANN  "
      ]
     },
     "execution_count": 10,
     "metadata": {},
     "output_type": "execute_result"
    }
   ],
   "source": [
    "# I need to duplicate this column so I can return it after the merge.\n",
    "people['swipe_time'] = people['time']\n",
    "\n",
    "calls_to_lobby = simulation.loc[(simulation['action'] == 'call') & (simulation['floor'] == 0)]\n",
    "# I had to look up how to achieve this in the pandas docs.\n",
    "people_entering = pd.merge_asof(calls_to_lobby[['action','system', 'direction','floor', 'time']].sort_values('time'), people[['time', 'guest', 'swipe_time', 'subject']].sort_values('time'), on='time', direction='backward', allow_exact_matches=False)\n",
    "people_entering.head(5)"
   ]
  },
  {
   "cell_type": "markdown",
   "metadata": {},
   "source": [
    "Now I can subtract the time people hit the call button from the time they swiped in, and see how long they all had to wait for an elevator to arrive in the lobby."
   ]
  },
  {
   "cell_type": "code",
   "execution_count": 11,
   "metadata": {},
   "outputs": [],
   "source": [
    "people_entering['time_to_call_button'] = people_entering['time'] - people_entering['swipe_time']"
   ]
  },
  {
   "cell_type": "code",
   "execution_count": 12,
   "metadata": {},
   "outputs": [
    {
     "data": {
      "text/plain": [
       "0   00:00:31.227923\n",
       "1   00:00:30.888002\n",
       "2   00:00:43.283269\n",
       "3   00:00:26.408885\n",
       "4   00:00:35.768985\n",
       "5   00:00:40.175388\n",
       "6   00:00:05.927107\n",
       "7   00:00:20.535374\n",
       "8   00:00:16.546781\n",
       "9   00:00:31.574212\n",
       "Name: time_to_call_button, dtype: timedelta64[ns]"
      ]
     },
     "execution_count": 12,
     "metadata": {},
     "output_type": "execute_result"
    }
   ],
   "source": [
    "people_entering.time_to_call_button[0:10]"
   ]
  },
  {
   "cell_type": "code",
   "execution_count": 13,
   "metadata": {},
   "outputs": [
    {
     "name": "stdout",
     "output_type": "stream",
     "text": [
      "On average, people waited 28 seconds for an elevator to arrive in the lobby.\n",
      "The longest someone had to wait was 59 seconds.\n"
     ]
    }
   ],
   "source": [
    "average_lobby_wait = people_entering.time_to_call_button.mean()\n",
    "print(\"On average, people waited %s seconds for an elevator to arrive in the lobby.\" %average_lobby_wait.seconds)\n",
    "\n",
    "longest_lobby_wait = people_entering.time_to_call_button.max()\n",
    "print(\"The longest someone had to wait was %s seconds.\" %longest_lobby_wait.seconds)"
   ]
  },
  {
   "cell_type": "markdown",
   "metadata": {},
   "source": [
    "Now, lets answer the three main questions:\n",
    "\n",
    "- The overall wait time.\n",
    "- Times during the day that elevator wait times are longer.\n",
    "- Floors where elevator wait times are longer.\n",
    "\n",
    "In order to answer these, we can make a simple search to look for all the elevator calls, then search for the next time an elevator arrived on the floor where the initial call was made. "
   ]
  },
  {
   "cell_type": "code",
   "execution_count": 14,
   "metadata": {},
   "outputs": [],
   "source": [
    "simulation['wait_time'] = np.nan  #how long did the user wait\n",
    "simulation['arriving_elevator'] = '' #which elevator arrived for them\n",
    "simulation['arriving_from_floor'] = '' #the floor the arriving elevator was coming from"
   ]
  },
  {
   "cell_type": "code",
   "execution_count": 15,
   "metadata": {},
   "outputs": [
    {
     "name": "stdout",
     "output_type": "stream",
     "text": [
      "CPU times: user 8min 46s, sys: 45.1 s, total: 9min 31s\n",
      "Wall time: 9min 36s\n"
     ]
    }
   ],
   "source": [
    "%%time\n",
    "\n",
    "for row in simulation.itertuples():    \n",
    "    if row.subject == 'system':\n",
    "        forward_search = simulation.iloc[row.Index: row.Index + 200]\n",
    "        for search_row in forward_search.itertuples():\n",
    "            if row.floor == search_row.floor and search_row.action == 'door open':\n",
    "                res = search_row.time - row.time\n",
    "                simulation.at[row.Index, 'wait_time'] = res.seconds\n",
    "                simulation.at[row.Index, 'arriving_elevator'] = search_row.subject\n",
    "                break\n",
    "            else:\n",
    "                continue\n",
    "        backward_search = simulation.iloc[row.Index::-1]\n",
    "        for back_row in backward_search.itertuples():\n",
    "            if back_row.subject == search_row.subject and back_row.action == 'door open':\n",
    "                simulation.at[row.Index, 'arriving_from_floor'] = back_row.floor\n",
    "                break\n",
    "            else: #edge case for entries that are in the beginning of the day\n",
    "                simulation.at[row.Index, 'arriving_from_floor'] = row.floor\n",
    "                continue"
   ]
  },
  {
   "cell_type": "code",
   "execution_count": 16,
   "metadata": {},
   "outputs": [],
   "source": [
    "simulation.wait_time.fillna(0, inplace=True)\n",
    "\n",
    "simulation.wait_time = simulation.wait_time.astype(int)"
   ]
  },
  {
   "cell_type": "markdown",
   "metadata": {},
   "source": [
    "We can also add a column for the `total_floors_traveled` to get to the person who hit the call button."
   ]
  },
  {
   "cell_type": "code",
   "execution_count": 17,
   "metadata": {},
   "outputs": [],
   "source": [
    "def floors_traveled(x):\n",
    "    if x.subject == 'system':\n",
    "        res = abs(x.floor - x.arriving_from_floor)\n",
    "        return res\n",
    "    else:\n",
    "        return 0 #we will only perform analysis on the button call rows, so these 0's won't cause any issues.\n",
    "\n",
    "floor_diffs = simulation.apply(floors_traveled, axis=1)\n",
    "\n",
    "simulation['total_floors_traveled'] = floor_diffs"
   ]
  },
  {
   "cell_type": "markdown",
   "metadata": {},
   "source": [
    "Let's set the `time` column as a DatetimeIndex."
   ]
  },
  {
   "cell_type": "code",
   "execution_count": 18,
   "metadata": {},
   "outputs": [],
   "source": [
    "simulation = simulation.set_index('time')"
   ]
  },
  {
   "cell_type": "code",
   "execution_count": 19,
   "metadata": {},
   "outputs": [
    {
     "name": "stdout",
     "output_type": "stream",
     "text": [
      "Dataframe index was changed to: datetime64[ns]\n"
     ]
    }
   ],
   "source": [
    "print(\"Dataframe index was changed to: %s\" %simulation.index.dtype)"
   ]
  },
  {
   "cell_type": "markdown",
   "metadata": {},
   "source": [
    "Now if we subset the dataset to only the elevator `call` actions, we will have a lot of meaningful information to answer the provided questions."
   ]
  },
  {
   "cell_type": "code",
   "execution_count": 20,
   "metadata": {},
   "outputs": [
    {
     "data": {
      "text/html": [
       "<div>\n",
       "<style scoped>\n",
       "    .dataframe tbody tr th:only-of-type {\n",
       "        vertical-align: middle;\n",
       "    }\n",
       "\n",
       "    .dataframe tbody tr th {\n",
       "        vertical-align: top;\n",
       "    }\n",
       "\n",
       "    .dataframe thead th {\n",
       "        text-align: right;\n",
       "    }\n",
       "</style>\n",
       "<table border=\"1\" class=\"dataframe\">\n",
       "  <thead>\n",
       "    <tr style=\"text-align: right;\">\n",
       "      <th></th>\n",
       "      <th>action</th>\n",
       "      <th>direction</th>\n",
       "      <th>floor</th>\n",
       "      <th>subject</th>\n",
       "      <th>system</th>\n",
       "      <th>wait_time</th>\n",
       "      <th>arriving_elevator</th>\n",
       "      <th>arriving_from_floor</th>\n",
       "      <th>total_floors_traveled</th>\n",
       "    </tr>\n",
       "    <tr>\n",
       "      <th>time</th>\n",
       "      <th></th>\n",
       "      <th></th>\n",
       "      <th></th>\n",
       "      <th></th>\n",
       "      <th></th>\n",
       "      <th></th>\n",
       "      <th></th>\n",
       "      <th></th>\n",
       "      <th></th>\n",
       "    </tr>\n",
       "  </thead>\n",
       "  <tbody>\n",
       "    <tr>\n",
       "      <th>2019-01-01 07:50:53.906554</th>\n",
       "      <td>call</td>\n",
       "      <td>up</td>\n",
       "      <td>0</td>\n",
       "      <td>system</td>\n",
       "      <td>elevator control</td>\n",
       "      <td>0</td>\n",
       "      <td>1</td>\n",
       "      <td>0</td>\n",
       "      <td>0</td>\n",
       "    </tr>\n",
       "    <tr>\n",
       "      <th>2019-01-01 07:54:40.829759</th>\n",
       "      <td>call</td>\n",
       "      <td>up</td>\n",
       "      <td>0</td>\n",
       "      <td>system</td>\n",
       "      <td>elevator control</td>\n",
       "      <td>0</td>\n",
       "      <td>2</td>\n",
       "      <td>0</td>\n",
       "      <td>0</td>\n",
       "    </tr>\n",
       "    <tr>\n",
       "      <th>2019-01-01 08:01:37.689910</th>\n",
       "      <td>call</td>\n",
       "      <td>up</td>\n",
       "      <td>0</td>\n",
       "      <td>system</td>\n",
       "      <td>elevator control</td>\n",
       "      <td>0</td>\n",
       "      <td>0</td>\n",
       "      <td>0</td>\n",
       "      <td>0</td>\n",
       "    </tr>\n",
       "    <tr>\n",
       "      <th>2019-01-01 08:10:29.154320</th>\n",
       "      <td>call</td>\n",
       "      <td>up</td>\n",
       "      <td>0</td>\n",
       "      <td>system</td>\n",
       "      <td>elevator control</td>\n",
       "      <td>0</td>\n",
       "      <td>3</td>\n",
       "      <td>0</td>\n",
       "      <td>0</td>\n",
       "    </tr>\n",
       "    <tr>\n",
       "      <th>2019-01-01 08:15:34.082043</th>\n",
       "      <td>call</td>\n",
       "      <td>up</td>\n",
       "      <td>0</td>\n",
       "      <td>system</td>\n",
       "      <td>elevator control</td>\n",
       "      <td>8</td>\n",
       "      <td>2</td>\n",
       "      <td>2</td>\n",
       "      <td>2</td>\n",
       "    </tr>\n",
       "  </tbody>\n",
       "</table>\n",
       "</div>"
      ],
      "text/plain": [
       "                           action direction  floor subject            system  \\\n",
       "time                                                                           \n",
       "2019-01-01 07:50:53.906554   call        up      0  system  elevator control   \n",
       "2019-01-01 07:54:40.829759   call        up      0  system  elevator control   \n",
       "2019-01-01 08:01:37.689910   call        up      0  system  elevator control   \n",
       "2019-01-01 08:10:29.154320   call        up      0  system  elevator control   \n",
       "2019-01-01 08:15:34.082043   call        up      0  system  elevator control   \n",
       "\n",
       "                            wait_time arriving_elevator arriving_from_floor  \\\n",
       "time                                                                          \n",
       "2019-01-01 07:50:53.906554          0                 1                   0   \n",
       "2019-01-01 07:54:40.829759          0                 2                   0   \n",
       "2019-01-01 08:01:37.689910          0                 0                   0   \n",
       "2019-01-01 08:10:29.154320          0                 3                   0   \n",
       "2019-01-01 08:15:34.082043          8                 2                   2   \n",
       "\n",
       "                            total_floors_traveled  \n",
       "time                                               \n",
       "2019-01-01 07:50:53.906554                      0  \n",
       "2019-01-01 07:54:40.829759                      0  \n",
       "2019-01-01 08:01:37.689910                      0  \n",
       "2019-01-01 08:10:29.154320                      0  \n",
       "2019-01-01 08:15:34.082043                      2  "
      ]
     },
     "execution_count": 20,
     "metadata": {},
     "output_type": "execute_result"
    }
   ],
   "source": [
    "wait_times = simulation.loc[simulation['action'] == 'call']\n",
    "wait_times.head(5)"
   ]
  },
  {
   "cell_type": "markdown",
   "metadata": {},
   "source": [
    "### Overall wait time?"
   ]
  },
  {
   "cell_type": "code",
   "execution_count": 21,
   "metadata": {},
   "outputs": [
    {
     "name": "stdout",
     "output_type": "stream",
     "text": [
      "The overall average wait time is: 25.69 seconds\n"
     ]
    }
   ],
   "source": [
    "overall_average = wait_times.wait_time.mean()\n",
    "\n",
    "print(\"The overall average wait time is: %s seconds\" %np.round(overall_average, 2))"
   ]
  },
  {
   "cell_type": "markdown",
   "metadata": {},
   "source": [
    "### Times during the day in which elevator wait times are longer?"
   ]
  },
  {
   "cell_type": "code",
   "execution_count": 22,
   "metadata": {},
   "outputs": [],
   "source": [
    "waits_series = wait_times.wait_time\n",
    "\n",
    "hourly_waits_plt = waits_series.groupby(waits_series.index.hour).mean()"
   ]
  },
  {
   "cell_type": "code",
   "execution_count": 23,
   "metadata": {},
   "outputs": [
    {
     "data": {
      "image/png": "[encoded data removed]",
      "text/plain": [
       "<Figure size 864x504 with 1 Axes>"
      ]
     },
     "metadata": {},
     "output_type": "display_data"
    }
   ],
   "source": [
    "sns.set_style(\"darkgrid\")\n",
    "\n",
    "waitplt, ax = plt.subplots(figsize = (12,7))\n",
    "ax = sns.lineplot(data=hourly_waits_plt, marker='o')\n",
    "ax.set_title('Average hourly wait times.',fontsize = 17, fontweight='bold' )\n",
    "ax.set_xlabel('Hour')\n",
    "ax.set_ylabel('Avg. wait time (seconds)');\n",
    "plt.savefig('average_hourly_waits.png')"
   ]
  },
  {
   "cell_type": "markdown",
   "metadata": {},
   "source": [
    "As we can see from the above line graph, wait times spike during the beginning (shortly after 7:30 AM) and end (between 4:00 PM - 7/8:00 PM) of the day."
   ]
  },
  {
   "cell_type": "markdown",
   "metadata": {},
   "source": [
    "### On what floors are the elevator wait times longer?"
   ]
  },
  {
   "cell_type": "code",
   "execution_count": 24,
   "metadata": {},
   "outputs": [],
   "source": [
    "first_quartile = wait_times.groupby('floor').wait_time.quantile(.25)\n",
    "second_quartile = wait_times.groupby('floor').wait_time.quantile(.50)\n",
    "third_quartile = wait_times.groupby('floor').wait_time.quantile(.75)"
   ]
  },
  {
   "cell_type": "code",
   "execution_count": 25,
   "metadata": {},
   "outputs": [
    {
     "data": {
      "image/png": "[encoded data removed]",
      "text/plain": [
       "<Figure size 864x504 with 1 Axes>"
      ]
     },
     "metadata": {},
     "output_type": "display_data"
    }
   ],
   "source": [
    "sns.set_style(\"darkgrid\")\n",
    "\n",
    "waitplt, ax = plt.subplots(figsize = (12,7))\n",
    "ax = sns.lineplot(data=first_quartile, marker='o', color='green', label='Lowest wait times.')\n",
    "ax = sns.lineplot(data=second_quartile, marker='o', color='yellow', label='Average wait times.')\n",
    "ax = sns.lineplot(data=third_quartile, marker='o', color='red', label='Highest wait times.')\n",
    "ax.legend()\n",
    "ax.set_title('Average wait times by floor.',fontsize = 17, fontweight='bold' )\n",
    "ax.set_xlabel('Floor')\n",
    "ax.set_ylabel('Avg. wait time (seconds)');\n",
    "plt.savefig('wait_times_by_floor.png')"
   ]
  },
  {
   "cell_type": "code",
   "execution_count": 26,
   "metadata": {},
   "outputs": [
    {
     "data": {
      "text/plain": [
       "array([ 0,  2,  9, 10, 19, 16, 11,  5,  4, 12, 18,  8,  7, 14, 15,  6, 13])"
      ]
     },
     "execution_count": 26,
     "metadata": {},
     "output_type": "execute_result"
    }
   ],
   "source": [
    "wait_times.floor.unique()"
   ]
  },
  {
   "cell_type": "markdown",
   "metadata": {},
   "source": [
    "It can be safe to assume that the red line above are those which are primarily complaining about wait times. The relationship between average wait times and `floor` is (mostly) linear, meaning that the higher in the building you are, the longer you will wait for an elevator."
   ]
  },
  {
   "cell_type": "markdown",
   "metadata": {},
   "source": [
    "In the bar graph below we can see that those who waited over a minute for an elevator did so primarily because the arriving elevator was traveling from the lobby."
   ]
  },
  {
   "cell_type": "code",
   "execution_count": 62,
   "metadata": {},
   "outputs": [
    {
     "data": {
      "image/png": "[encoded data removed]",
      "text/plain": [
       "<Figure size 432x288 with 1 Axes>"
      ]
     },
     "metadata": {},
     "output_type": "display_data"
    }
   ],
   "source": [
    "v = simulation.loc[simulation['wait_time'] > 60].arriving_from_floor.value_counts()\n",
    "\n",
    "plt.figure()\n",
    "\n",
    "ax = v.plot(kind='bar')\n",
    "ax.set_ylabel('# of people waiting over 60 seconds.')\n",
    "ax.set_xlabel('Arriving from floor.')\n",
    "ax.set_title('Origin of long waits.')\n",
    "plt.savefig('defaults_to_zero.png')"
   ]
  },
  {
   "cell_type": "code",
   "execution_count": 27,
   "metadata": {},
   "outputs": [
    {
     "data": {
      "image/png": "[encoded data removed]",
      "text/plain": [
       "<Figure size 864x504 with 1 Axes>"
      ]
     },
     "metadata": {},
     "output_type": "display_data"
    }
   ],
   "source": [
    "sns.set_style(\"dark\")\n",
    "elevplt, ax = plt.subplots(figsize = (12,7))\n",
    "ax = sns.boxplot(data=wait_times, x='arriving_elevator', y='wait_time')\n",
    "ax.set_title('Wait times by elevator.',fontsize = 17, fontweight='bold' )\n",
    "ax.set_xlabel('Arriving Elevator')\n",
    "ax.set_ylabel('Wait time (seconds)');\n",
    "plt.savefig('wait_times_by_elevator.png')"
   ]
  },
  {
   "cell_type": "markdown",
   "metadata": {},
   "source": [
    "Wait times for elevator 1 seem to be consistent; however, wait times for elevators 0, 2 and 3 have a lot of outliers."
   ]
  },
  {
   "cell_type": "markdown",
   "metadata": {},
   "source": [
    "# Recommendations"
   ]
  },
  {
   "cell_type": "markdown",
   "metadata": {},
   "source": [
    "From this analysis, we've identified two main pain points which are leading to longer elevator wait times: \n",
    "\n",
    "*1) A surge of entrants in the morning causes a spike in elevator wait times between 7:30 AM and 10:00 AM.*\n",
    "\n",
    "*2) Employees exit mainly between 3:00 PM and 8:00 PM, and within this window of time, as time passes, wait times for the elevators spike.*\n",
    "\n",
    "In order to ease the time burden for those on the lobby and upper floors we would suggest the following:"
   ]
  },
  {
   "cell_type": "markdown",
   "metadata": {},
   "source": [
    "- As time goes on, people in the lobby begin to spend more time waiting for their elevator to arrive. If a `swipe` tiggered a subset (or one) of the elevators to travel towards the lobby that would alleviate some of the time burden from the lobby. "
   ]
  },
  {
   "cell_type": "markdown",
   "metadata": {},
   "source": [
    "- All elevator's default to the lobby (Floor 0), but the people that wait the longest are on the top floors. The building manager should allocate at least one elevator to default to the top floor (Floor 19), or some middle floor other than the lobby in order to reduce wait times at peak hours. In the dataframe below you can see that elevator 1 is first to pick up someone and take them to the second floor, in the last cell elevator 1 opens at ground level (Floor 0) again with no wait time, this pattern repeats at the beginning of each day over the course of the three months."
   ]
  },
  {
   "cell_type": "code",
   "execution_count": 28,
   "metadata": {},
   "outputs": [
    {
     "data": {
      "text/html": [
       "<div>\n",
       "<style scoped>\n",
       "    .dataframe tbody tr th:only-of-type {\n",
       "        vertical-align: middle;\n",
       "    }\n",
       "\n",
       "    .dataframe tbody tr th {\n",
       "        vertical-align: top;\n",
       "    }\n",
       "\n",
       "    .dataframe thead th {\n",
       "        text-align: right;\n",
       "    }\n",
       "</style>\n",
       "<table border=\"1\" class=\"dataframe\">\n",
       "  <thead>\n",
       "    <tr style=\"text-align: right;\">\n",
       "      <th></th>\n",
       "      <th>action</th>\n",
       "      <th>direction</th>\n",
       "      <th>floor</th>\n",
       "      <th>subject</th>\n",
       "      <th>system</th>\n",
       "      <th>wait_time</th>\n",
       "      <th>arriving_elevator</th>\n",
       "      <th>arriving_from_floor</th>\n",
       "      <th>total_floors_traveled</th>\n",
       "    </tr>\n",
       "    <tr>\n",
       "      <th>time</th>\n",
       "      <th></th>\n",
       "      <th></th>\n",
       "      <th></th>\n",
       "      <th></th>\n",
       "      <th></th>\n",
       "      <th></th>\n",
       "      <th></th>\n",
       "      <th></th>\n",
       "      <th></th>\n",
       "    </tr>\n",
       "  </thead>\n",
       "  <tbody>\n",
       "    <tr>\n",
       "      <th>2019-01-01 07:50:53.906554</th>\n",
       "      <td>call</td>\n",
       "      <td>up</td>\n",
       "      <td>0</td>\n",
       "      <td>system</td>\n",
       "      <td>elevator control</td>\n",
       "      <td>0</td>\n",
       "      <td>1</td>\n",
       "      <td>0</td>\n",
       "      <td>0</td>\n",
       "    </tr>\n",
       "    <tr>\n",
       "      <th>2019-01-01 07:50:53.906554</th>\n",
       "      <td>door open</td>\n",
       "      <td>NaN</td>\n",
       "      <td>0</td>\n",
       "      <td>1</td>\n",
       "      <td>elevator control</td>\n",
       "      <td>0</td>\n",
       "      <td></td>\n",
       "      <td></td>\n",
       "      <td>0</td>\n",
       "    </tr>\n",
       "    <tr>\n",
       "      <th>2019-01-01 07:51:19.006554</th>\n",
       "      <td>door open</td>\n",
       "      <td>NaN</td>\n",
       "      <td>2</td>\n",
       "      <td>1</td>\n",
       "      <td>elevator control</td>\n",
       "      <td>0</td>\n",
       "      <td></td>\n",
       "      <td></td>\n",
       "      <td>0</td>\n",
       "    </tr>\n",
       "    <tr>\n",
       "      <th>2019-01-01 07:54:40.829759</th>\n",
       "      <td>call</td>\n",
       "      <td>up</td>\n",
       "      <td>0</td>\n",
       "      <td>system</td>\n",
       "      <td>elevator control</td>\n",
       "      <td>0</td>\n",
       "      <td>2</td>\n",
       "      <td>0</td>\n",
       "      <td>0</td>\n",
       "    </tr>\n",
       "    <tr>\n",
       "      <th>2019-01-01 07:54:40.829759</th>\n",
       "      <td>door open</td>\n",
       "      <td>NaN</td>\n",
       "      <td>0</td>\n",
       "      <td>2</td>\n",
       "      <td>elevator control</td>\n",
       "      <td>0</td>\n",
       "      <td></td>\n",
       "      <td></td>\n",
       "      <td>0</td>\n",
       "    </tr>\n",
       "    <tr>\n",
       "      <th>2019-01-01 07:55:05.929759</th>\n",
       "      <td>door open</td>\n",
       "      <td>NaN</td>\n",
       "      <td>2</td>\n",
       "      <td>2</td>\n",
       "      <td>elevator control</td>\n",
       "      <td>0</td>\n",
       "      <td></td>\n",
       "      <td></td>\n",
       "      <td>0</td>\n",
       "    </tr>\n",
       "    <tr>\n",
       "      <th>2019-01-01 08:01:37.689910</th>\n",
       "      <td>call</td>\n",
       "      <td>up</td>\n",
       "      <td>0</td>\n",
       "      <td>system</td>\n",
       "      <td>elevator control</td>\n",
       "      <td>0</td>\n",
       "      <td>0</td>\n",
       "      <td>0</td>\n",
       "      <td>0</td>\n",
       "    </tr>\n",
       "    <tr>\n",
       "      <th>2019-01-01 08:01:37.689910</th>\n",
       "      <td>door open</td>\n",
       "      <td>NaN</td>\n",
       "      <td>0</td>\n",
       "      <td>0</td>\n",
       "      <td>elevator control</td>\n",
       "      <td>0</td>\n",
       "      <td></td>\n",
       "      <td></td>\n",
       "      <td>0</td>\n",
       "    </tr>\n",
       "    <tr>\n",
       "      <th>2019-01-01 08:02:30.789910</th>\n",
       "      <td>door open</td>\n",
       "      <td>NaN</td>\n",
       "      <td>9</td>\n",
       "      <td>0</td>\n",
       "      <td>elevator control</td>\n",
       "      <td>0</td>\n",
       "      <td></td>\n",
       "      <td></td>\n",
       "      <td>0</td>\n",
       "    </tr>\n",
       "    <tr>\n",
       "      <th>2019-01-01 08:10:29.154320</th>\n",
       "      <td>call</td>\n",
       "      <td>up</td>\n",
       "      <td>0</td>\n",
       "      <td>system</td>\n",
       "      <td>elevator control</td>\n",
       "      <td>0</td>\n",
       "      <td>3</td>\n",
       "      <td>0</td>\n",
       "      <td>0</td>\n",
       "    </tr>\n",
       "    <tr>\n",
       "      <th>2019-01-01 08:10:29.154320</th>\n",
       "      <td>door open</td>\n",
       "      <td>NaN</td>\n",
       "      <td>0</td>\n",
       "      <td>3</td>\n",
       "      <td>elevator control</td>\n",
       "      <td>0</td>\n",
       "      <td></td>\n",
       "      <td></td>\n",
       "      <td>0</td>\n",
       "    </tr>\n",
       "    <tr>\n",
       "      <th>2019-01-01 08:10:54.254320</th>\n",
       "      <td>door open</td>\n",
       "      <td>NaN</td>\n",
       "      <td>2</td>\n",
       "      <td>3</td>\n",
       "      <td>elevator control</td>\n",
       "      <td>0</td>\n",
       "      <td></td>\n",
       "      <td></td>\n",
       "      <td>0</td>\n",
       "    </tr>\n",
       "    <tr>\n",
       "      <th>2019-01-01 08:15:34.082043</th>\n",
       "      <td>call</td>\n",
       "      <td>up</td>\n",
       "      <td>0</td>\n",
       "      <td>system</td>\n",
       "      <td>elevator control</td>\n",
       "      <td>8</td>\n",
       "      <td>2</td>\n",
       "      <td>2</td>\n",
       "      <td>2</td>\n",
       "    </tr>\n",
       "    <tr>\n",
       "      <th>2019-01-01 08:15:42.082043</th>\n",
       "      <td>door open</td>\n",
       "      <td>NaN</td>\n",
       "      <td>0</td>\n",
       "      <td>2</td>\n",
       "      <td>elevator control</td>\n",
       "      <td>0</td>\n",
       "      <td></td>\n",
       "      <td></td>\n",
       "      <td>0</td>\n",
       "    </tr>\n",
       "    <tr>\n",
       "      <th>2019-01-01 08:16:07.182043</th>\n",
       "      <td>door open</td>\n",
       "      <td>NaN</td>\n",
       "      <td>2</td>\n",
       "      <td>2</td>\n",
       "      <td>elevator control</td>\n",
       "      <td>0</td>\n",
       "      <td></td>\n",
       "      <td></td>\n",
       "      <td>0</td>\n",
       "    </tr>\n",
       "    <tr>\n",
       "      <th>2019-01-01 08:35:23.242392</th>\n",
       "      <td>call</td>\n",
       "      <td>up</td>\n",
       "      <td>0</td>\n",
       "      <td>system</td>\n",
       "      <td>elevator control</td>\n",
       "      <td>8</td>\n",
       "      <td>3</td>\n",
       "      <td>2</td>\n",
       "      <td>2</td>\n",
       "    </tr>\n",
       "    <tr>\n",
       "      <th>2019-01-01 08:35:31.242392</th>\n",
       "      <td>door open</td>\n",
       "      <td>NaN</td>\n",
       "      <td>0</td>\n",
       "      <td>3</td>\n",
       "      <td>elevator control</td>\n",
       "      <td>0</td>\n",
       "      <td></td>\n",
       "      <td></td>\n",
       "      <td>0</td>\n",
       "    </tr>\n",
       "    <tr>\n",
       "      <th>2019-01-01 08:37:04.342392</th>\n",
       "      <td>door open</td>\n",
       "      <td>NaN</td>\n",
       "      <td>19</td>\n",
       "      <td>3</td>\n",
       "      <td>elevator control</td>\n",
       "      <td>0</td>\n",
       "      <td></td>\n",
       "      <td></td>\n",
       "      <td>0</td>\n",
       "    </tr>\n",
       "    <tr>\n",
       "      <th>2019-01-01 09:19:18.435695</th>\n",
       "      <td>call</td>\n",
       "      <td>up</td>\n",
       "      <td>0</td>\n",
       "      <td>system</td>\n",
       "      <td>elevator control</td>\n",
       "      <td>8</td>\n",
       "      <td>1</td>\n",
       "      <td>2</td>\n",
       "      <td>2</td>\n",
       "    </tr>\n",
       "    <tr>\n",
       "      <th>2019-01-01 09:19:26.435695</th>\n",
       "      <td>door open</td>\n",
       "      <td>NaN</td>\n",
       "      <td>0</td>\n",
       "      <td>1</td>\n",
       "      <td>elevator control</td>\n",
       "      <td>0</td>\n",
       "      <td></td>\n",
       "      <td></td>\n",
       "      <td>0</td>\n",
       "    </tr>\n",
       "  </tbody>\n",
       "</table>\n",
       "</div>"
      ],
      "text/plain": [
       "                               action direction  floor subject  \\\n",
       "time                                                             \n",
       "2019-01-01 07:50:53.906554       call        up      0  system   \n",
       "2019-01-01 07:50:53.906554  door open       NaN      0       1   \n",
       "2019-01-01 07:51:19.006554  door open       NaN      2       1   \n",
       "2019-01-01 07:54:40.829759       call        up      0  system   \n",
       "2019-01-01 07:54:40.829759  door open       NaN      0       2   \n",
       "2019-01-01 07:55:05.929759  door open       NaN      2       2   \n",
       "2019-01-01 08:01:37.689910       call        up      0  system   \n",
       "2019-01-01 08:01:37.689910  door open       NaN      0       0   \n",
       "2019-01-01 08:02:30.789910  door open       NaN      9       0   \n",
       "2019-01-01 08:10:29.154320       call        up      0  system   \n",
       "2019-01-01 08:10:29.154320  door open       NaN      0       3   \n",
       "2019-01-01 08:10:54.254320  door open       NaN      2       3   \n",
       "2019-01-01 08:15:34.082043       call        up      0  system   \n",
       "2019-01-01 08:15:42.082043  door open       NaN      0       2   \n",
       "2019-01-01 08:16:07.182043  door open       NaN      2       2   \n",
       "2019-01-01 08:35:23.242392       call        up      0  system   \n",
       "2019-01-01 08:35:31.242392  door open       NaN      0       3   \n",
       "2019-01-01 08:37:04.342392  door open       NaN     19       3   \n",
       "2019-01-01 09:19:18.435695       call        up      0  system   \n",
       "2019-01-01 09:19:26.435695  door open       NaN      0       1   \n",
       "\n",
       "                                      system  wait_time arriving_elevator  \\\n",
       "time                                                                        \n",
       "2019-01-01 07:50:53.906554  elevator control          0                 1   \n",
       "2019-01-01 07:50:53.906554  elevator control          0                     \n",
       "2019-01-01 07:51:19.006554  elevator control          0                     \n",
       "2019-01-01 07:54:40.829759  elevator control          0                 2   \n",
       "2019-01-01 07:54:40.829759  elevator control          0                     \n",
       "2019-01-01 07:55:05.929759  elevator control          0                     \n",
       "2019-01-01 08:01:37.689910  elevator control          0                 0   \n",
       "2019-01-01 08:01:37.689910  elevator control          0                     \n",
       "2019-01-01 08:02:30.789910  elevator control          0                     \n",
       "2019-01-01 08:10:29.154320  elevator control          0                 3   \n",
       "2019-01-01 08:10:29.154320  elevator control          0                     \n",
       "2019-01-01 08:10:54.254320  elevator control          0                     \n",
       "2019-01-01 08:15:34.082043  elevator control          8                 2   \n",
       "2019-01-01 08:15:42.082043  elevator control          0                     \n",
       "2019-01-01 08:16:07.182043  elevator control          0                     \n",
       "2019-01-01 08:35:23.242392  elevator control          8                 3   \n",
       "2019-01-01 08:35:31.242392  elevator control          0                     \n",
       "2019-01-01 08:37:04.342392  elevator control          0                     \n",
       "2019-01-01 09:19:18.435695  elevator control          8                 1   \n",
       "2019-01-01 09:19:26.435695  elevator control          0                     \n",
       "\n",
       "                           arriving_from_floor  total_floors_traveled  \n",
       "time                                                                   \n",
       "2019-01-01 07:50:53.906554                   0                      0  \n",
       "2019-01-01 07:50:53.906554                                          0  \n",
       "2019-01-01 07:51:19.006554                                          0  \n",
       "2019-01-01 07:54:40.829759                   0                      0  \n",
       "2019-01-01 07:54:40.829759                                          0  \n",
       "2019-01-01 07:55:05.929759                                          0  \n",
       "2019-01-01 08:01:37.689910                   0                      0  \n",
       "2019-01-01 08:01:37.689910                                          0  \n",
       "2019-01-01 08:02:30.789910                                          0  \n",
       "2019-01-01 08:10:29.154320                   0                      0  \n",
       "2019-01-01 08:10:29.154320                                          0  \n",
       "2019-01-01 08:10:54.254320                                          0  \n",
       "2019-01-01 08:15:34.082043                   2                      2  \n",
       "2019-01-01 08:15:42.082043                                          0  \n",
       "2019-01-01 08:16:07.182043                                          0  \n",
       "2019-01-01 08:35:23.242392                   2                      2  \n",
       "2019-01-01 08:35:31.242392                                          0  \n",
       "2019-01-01 08:37:04.342392                                          0  \n",
       "2019-01-01 09:19:18.435695                   2                      2  \n",
       "2019-01-01 09:19:26.435695                                          0  "
      ]
     },
     "execution_count": 28,
     "metadata": {},
     "output_type": "execute_result"
    }
   ],
   "source": [
    "simulation.head(20)"
   ]
  },
  {
   "cell_type": "markdown",
   "metadata": {},
   "source": [
    "### Post Mortem."
   ]
  },
  {
   "cell_type": "markdown",
   "metadata": {},
   "source": [
    "Over the course of this excercise, I made a point to only devote the allotted time (6-8 hours) to the task. If I would have had more time, here are some of the things I would have done:\n",
    "\n",
    "\n",
    "- Control for all elevator users that hit the call button multiple times. \n",
    "\n",
    "- In the first pass, I only used information that I saw from the first entrants into the building to determine the default \"home\" location of the elevators (Floor 0). If I had more time I would confirm this programatically.\n",
    "\n",
    "- The search algorithm used to glean most of the insights used in this analysis was sufficient for a first pass exploratory analysis, but not for a production environment. For example, if we had real-time elevator data it would be too slow to be useful. If I had more time, I would have tried to come up with a vectorized/alternate solution to the problem.\n",
    "\n",
    "- Weight was a tricky and tempting feature to consider. In the end, I decided that it would be a dead end as I assumed that the elevators were operating at their intended (which we don't know, but I assume they were designed for and are legal in NYC) capacity. It would be interesting to explore the relationship between weight and `wait_time` but that treads into muddy [legal waters](http://www.nyc.gov/html/dob/downloads/bldgs_code/bc27s9.pdf) which I would need a second opinion on, especially because we would be giving written advice to the client.\n",
    "\n",
    "- I focused on answering the provided questions in the provided timeframe. If I had more time I would have tried to explore other relationships in the data and use different visualizations to present that information."
   ]
  },
  {
   "cell_type": "code",
   "execution_count": 29,
   "metadata": {},
   "outputs": [],
   "source": [
    "wait_dir = simulation.loc[simulation['wait_time'] > 60].direction.value_counts()"
   ]
  },
  {
   "cell_type": "code",
   "execution_count": 30,
   "metadata": {},
   "outputs": [
    {
     "name": "stdout",
     "output_type": "stream",
     "text": [
      "59.527121001390825 percent of users who waited over a minute were traveling downward.\n"
     ]
    }
   ],
   "source": [
    "r = wait_dir.down / (wait_dir.up + wait_dir.down) * 100\n",
    "print('%r percent of users who waited over a minute were traveling downward.' %r)"
   ]
  },
  {
   "cell_type": "code",
   "execution_count": 31,
   "metadata": {},
   "outputs": [
    {
     "data": {
      "text/plain": [
       "down    3424\n",
       "up      2328\n",
       "Name: direction, dtype: int64"
      ]
     },
     "execution_count": 31,
     "metadata": {},
     "output_type": "execute_result"
    }
   ],
   "source": [
    "wait_dir"
   ]
  },
  {
   "cell_type": "code",
   "execution_count": 32,
   "metadata": {},
   "outputs": [
    {
     "data": {
      "text/plain": [
       "0    1473\n",
       "2    1470\n",
       "3    1443\n",
       "1    1366\n",
       "Name: arriving_elevator, dtype: int64"
      ]
     },
     "execution_count": 32,
     "metadata": {},
     "output_type": "execute_result"
    }
   ],
   "source": [
    "simulation.loc[simulation['wait_time'] > 60].arriving_elevator.value_counts()"
   ]
  },
  {
   "cell_type": "code",
   "execution_count": 33,
   "metadata": {},
   "outputs": [
    {
     "data": {
      "text/plain": [
       "17    1211\n",
       "8     1141\n",
       "9      642\n",
       "18     622\n",
       "11     547\n",
       "12     469\n",
       "16     350\n",
       "13     235\n",
       "7      182\n",
       "19     103\n",
       "10      96\n",
       "14      77\n",
       "15      62\n",
       "20      12\n",
       "21       1\n",
       "22       1\n",
       "6        1\n",
       "Name: time, dtype: int64"
      ]
     },
     "execution_count": 33,
     "metadata": {},
     "output_type": "execute_result"
    }
   ],
   "source": [
    "simulation.loc[simulation['wait_time'] > 60].index.hour.value_counts()"
   ]
  }
 ],
 "metadata": {
  "kernelspec": {
   "display_name": "learn-env",
   "language": "python",
   "name": "learn-env"
  },
  "language_info": {
   "codemirror_mode": {
    "name": "ipython",
    "version": 3
   },
   "file_extension": ".py",
   "mimetype": "text/x-python",
   "name": "python",
   "nbconvert_exporter": "python",
   "pygments_lexer": "ipython3",
   "version": "3.6.10"
  }
 },
 "nbformat": 4,
 "nbformat_minor": 4
}
